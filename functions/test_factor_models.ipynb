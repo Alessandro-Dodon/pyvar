{
 "cells": [
  {
   "cell_type": "markdown",
   "id": "3242fba5",
   "metadata": {},
   "source": [
    "# Test Factor Models VaR and ES\n",
    "This notebook demonstrates how to use:\n",
    "- A single-factor model Value-at-Risk (VaR) and Expected Shortfall (ES)\n",
    "- A Fama-French 3-factor model for VaR and ES\n",
    "\n",
    "It uses historical return data and factor models to estimate portfolio risk."
   ]
  },
  {
   "cell_type": "code",
   "execution_count": 22,
   "id": "a85ada82",
   "metadata": {},
   "outputs": [],
   "source": [
    "import data_download as dd\n",
    "import factor_models as fm\n",
    "import pandas as pd\n",
    "import numpy as np"
   ]
  },
  {
   "cell_type": "markdown",
   "id": "120815a4",
   "metadata": {},
   "source": [
    "##  Download data and form a portfolio"
   ]
  },
  {
   "cell_type": "code",
   "execution_count": 23,
   "id": "d23a42cf",
   "metadata": {},
   "outputs": [
    {
     "data": {
      "text/html": [
       "<div>\n",
       "<style scoped>\n",
       "    .dataframe tbody tr th:only-of-type {\n",
       "        vertical-align: middle;\n",
       "    }\n",
       "\n",
       "    .dataframe tbody tr th {\n",
       "        vertical-align: top;\n",
       "    }\n",
       "\n",
       "    .dataframe thead th {\n",
       "        text-align: right;\n",
       "    }\n",
       "</style>\n",
       "<table border=\"1\" class=\"dataframe\">\n",
       "  <thead>\n",
       "    <tr style=\"text-align: right;\">\n",
       "      <th></th>\n",
       "      <th>AAPL</th>\n",
       "      <th>MSFT</th>\n",
       "      <th>NVDA</th>\n",
       "      <th>PORTFOLIO_TOTAL</th>\n",
       "    </tr>\n",
       "    <tr>\n",
       "      <th>Date</th>\n",
       "      <th></th>\n",
       "      <th></th>\n",
       "      <th></th>\n",
       "      <th></th>\n",
       "    </tr>\n",
       "  </thead>\n",
       "  <tbody>\n",
       "    <tr>\n",
       "      <th>2024-01-02</th>\n",
       "      <td>553.596222</td>\n",
       "      <td>1102.141754</td>\n",
       "      <td>144.449753</td>\n",
       "      <td>1800.187729</td>\n",
       "    </tr>\n",
       "    <tr>\n",
       "      <th>2024-01-03</th>\n",
       "      <td>549.451172</td>\n",
       "      <td>1101.339569</td>\n",
       "      <td>142.653419</td>\n",
       "      <td>1793.444160</td>\n",
       "    </tr>\n",
       "    <tr>\n",
       "      <th>2024-01-04</th>\n",
       "      <td>542.473022</td>\n",
       "      <td>1093.434540</td>\n",
       "      <td>143.939953</td>\n",
       "      <td>1779.847515</td>\n",
       "    </tr>\n",
       "    <tr>\n",
       "      <th>2024-01-05</th>\n",
       "      <td>540.296127</td>\n",
       "      <td>1092.869934</td>\n",
       "      <td>147.235691</td>\n",
       "      <td>1780.401752</td>\n",
       "    </tr>\n",
       "    <tr>\n",
       "      <th>2024-01-08</th>\n",
       "      <td>553.357681</td>\n",
       "      <td>1113.494019</td>\n",
       "      <td>156.700138</td>\n",
       "      <td>1823.551838</td>\n",
       "    </tr>\n",
       "  </tbody>\n",
       "</table>\n",
       "</div>"
      ],
      "text/plain": [
       "                  AAPL         MSFT        NVDA  PORTFOLIO_TOTAL\n",
       "Date                                                            \n",
       "2024-01-02  553.596222  1102.141754  144.449753      1800.187729\n",
       "2024-01-03  549.451172  1101.339569  142.653419      1793.444160\n",
       "2024-01-04  542.473022  1093.434540  143.939953      1779.847515\n",
       "2024-01-05  540.296127  1092.869934  147.235691      1780.401752\n",
       "2024-01-08  553.357681  1113.494019  156.700138      1823.551838"
      ]
     },
     "execution_count": 23,
     "metadata": {},
     "output_type": "execute_result"
    }
   ],
   "source": [
    "# Define tickers and download price data\n",
    "tickers = [\"MSFT\", \"NVDA\", \"AAPL\"]\n",
    "prices = dd.get_raw_prices(tickers, start=\"2024-01-01\")\n",
    "\n",
    "\n",
    "# Define portfolio — 3 shares of each asset\n",
    "shares = pd.Series({\"MSFT\": 3, \"NVDA\": 3, \"AAPL\": 3})\n",
    "\n",
    "# Compute daily value of each position\n",
    "position_values = prices * shares\n",
    "\n",
    "# Compute total portfolio value over time\n",
    "portfolio_value_series = position_values.sum(axis=1)\n",
    "\n",
    "# Compute asset weights (based on latest available prices)\n",
    "latest_prices = prices.iloc[-1]\n",
    "port_val = (shares * latest_prices).sum()\n",
    "weights = (shares * latest_prices) / port_val\n",
    "\n",
    "# Compute daily asset returns and portfolio returns\n",
    "returns = prices.pct_change().dropna()\n",
    "portfolio_returns = returns @ weights\n",
    "\n",
    "# Combine historical values into one DataFrame\n",
    "portfolio_df = position_values.copy()\n",
    "portfolio_df[\"PORTFOLIO_TOTAL\"] = portfolio_value_series\n",
    "\n",
    "# Display results\n",
    "portfolio_df.head()\n"
   ]
  },
  {
   "cell_type": "markdown",
   "id": "3ffafb5c",
   "metadata": {},
   "source": [
    "## Single-Factor VaR and ES"
   ]
  },
  {
   "cell_type": "markdown",
   "id": "44313914",
   "metadata": {},
   "source": [
    "The Single-Factor model assumes that all asset returns are driven by a single common factor — typically the market index.  \n",
    "This is also referred to as the **Sharpe Single-Index Model**, and is a special case of the delta-normal method.\n",
    "\n",
    "Each asset’s return is modeled as:\n",
    "\n",
    "$$\n",
    "R_i = \\alpha_i + \\beta_i R_m + \\varepsilon_i\n",
    "$$\n",
    "\n",
    "where:\n",
    "- $R_m$ is the market return\n",
    "- $\\beta_i$ is the sensitivity of asset $i$ to the market\n",
    "- $\\varepsilon_i$ is the idiosyncratic (asset-specific) risk\n",
    "\n",
    "The total variance of asset $i$ is:\n",
    "\n",
    "$$\n",
    "\\sigma_i^2 = \\beta_i^2 \\sigma_m^2 + \\sigma_{\\varepsilon_i}^2\n",
    "$$\n",
    "\n",
    "The portfolio’s covariance matrix is approximated as:\n",
    "\n",
    "$$\n",
    "\\Sigma = \\beta \\beta^T \\cdot \\sigma_m^2 + D\n",
    "$$\n",
    "\n",
    "where:\n",
    "- $\\beta$: vector of asset betas\n",
    "- $\\sigma_m^2$: variance of the market return\n",
    "- $D$: diagonal matrix of idiosyncratic variances\n",
    "\n",
    "Finally, the portfolio VaR at confidence level $\\alpha$ is given by:\n",
    "\n",
    "$$\n",
    "\\text{VaR}_{\\alpha} = z_\\alpha \\cdot \\sigma_p \\cdot \\text{PortfolioValue}\n",
    "$$\n",
    "\n",
    "and the Expected Shortfall (ES) is:\n",
    "\n",
    "$$\n",
    "\\text{ES}_{\\alpha} = \\frac{\\phi(z_\\alpha)}{1 - \\alpha} \\cdot \\sigma_p \\cdot \\text{PortfolioValue}\n",
    "$$\n",
    "\n",
    "where $z_\\alpha$ is the quantile of the standard normal distribution and $\\phi$ is the standard normal PDF.\n"
   ]
  },
  {
   "cell_type": "code",
   "execution_count": 24,
   "id": "90c41981",
   "metadata": {},
   "outputs": [],
   "source": [
    "# download SPY prices\n",
    "spy = dd.get_raw_prices([\"SPY\"], start=\"2024-01-01\")\n",
    "\n",
    "# compute benchmark returns\n",
    "benchmark = spy[\"SPY\"].pct_change().dropna()\n",
    "\n",
    "# align benchmark with asset returns\n",
    "benchmark = benchmark.reindex(returns.index).ffill()"
   ]
  },
  {
   "cell_type": "code",
   "execution_count": 25,
   "id": "a8d27d10",
   "metadata": {},
   "outputs": [
    {
     "name": "stdout",
     "output_type": "stream",
     "text": [
      "Single Factor Portfolio VaR (99%): 85.34 USD\n",
      "Single Factor Portfolio ES  (99%): 97.77 USD\n",
      "\n",
      "Covariance matrix:\n"
     ]
    },
    {
     "data": {
      "text/html": [
       "<div>\n",
       "<style scoped>\n",
       "    .dataframe tbody tr th:only-of-type {\n",
       "        vertical-align: middle;\n",
       "    }\n",
       "\n",
       "    .dataframe tbody tr th {\n",
       "        vertical-align: top;\n",
       "    }\n",
       "\n",
       "    .dataframe thead th {\n",
       "        text-align: right;\n",
       "    }\n",
       "</style>\n",
       "<table border=\"1\" class=\"dataframe\">\n",
       "  <thead>\n",
       "    <tr style=\"text-align: right;\">\n",
       "      <th>Ticker</th>\n",
       "      <th>AAPL</th>\n",
       "      <th>MSFT</th>\n",
       "      <th>NVDA</th>\n",
       "    </tr>\n",
       "    <tr>\n",
       "      <th>Ticker</th>\n",
       "      <th></th>\n",
       "      <th></th>\n",
       "      <th></th>\n",
       "    </tr>\n",
       "  </thead>\n",
       "  <tbody>\n",
       "    <tr>\n",
       "      <th>AAPL</th>\n",
       "      <td>0.000360</td>\n",
       "      <td>0.000156</td>\n",
       "      <td>0.000338</td>\n",
       "    </tr>\n",
       "    <tr>\n",
       "      <th>MSFT</th>\n",
       "      <td>0.000156</td>\n",
       "      <td>0.000234</td>\n",
       "      <td>0.000288</td>\n",
       "    </tr>\n",
       "    <tr>\n",
       "      <th>NVDA</th>\n",
       "      <td>0.000338</td>\n",
       "      <td>0.000288</td>\n",
       "      <td>0.001323</td>\n",
       "    </tr>\n",
       "  </tbody>\n",
       "</table>\n",
       "</div>"
      ],
      "text/plain": [
       "Ticker      AAPL      MSFT      NVDA\n",
       "Ticker                              \n",
       "AAPL    0.000360  0.000156  0.000338\n",
       "MSFT    0.000156  0.000234  0.000288\n",
       "NVDA    0.000338  0.000288  0.001323"
      ]
     },
     "metadata": {},
     "output_type": "display_data"
    },
    {
     "name": "stdout",
     "output_type": "stream",
     "text": [
      "\n",
      " Asset betas relative to SPY:\n"
     ]
    },
    {
     "data": {
      "text/plain": [
       "Ticker\n",
       "AAPL    1.180196\n",
       "MSFT    1.005505\n",
       "NVDA    2.179345\n",
       "dtype: float64"
      ]
     },
     "metadata": {},
     "output_type": "display_data"
    },
    {
     "name": "stdout",
     "output_type": "stream",
     "text": [
      "\n",
      " Idiosyncratic variances:\n"
     ]
    },
    {
     "data": {
      "text/plain": [
       "Ticker\n",
       "AAPL    0.000177\n",
       "MSFT    0.000101\n",
       "NVDA    0.000698\n",
       "dtype: float64"
      ]
     },
     "metadata": {},
     "output_type": "display_data"
    }
   ],
   "source": [
    "var_sf, es_sf, Sigma, betas, idio_var = fm.single_factor_var_es(\n",
    "    returns=returns,\n",
    "    benchmark=benchmark,\n",
    "    weights=weights,\n",
    "    port_val=port_val,\n",
    "    confidence_level=0.99\n",
    ")\n",
    "\n",
    "# Print results\n",
    "print(\"Single Factor Portfolio VaR (99%):\", f\"{var_sf:,.2f} USD\")\n",
    "print(\"Single Factor Portfolio ES  (99%):\", f\"{es_sf:,.2f} USD\\n\")\n",
    "\n",
    "print(\"Covariance matrix:\")\n",
    "display(Sigma)\n",
    "\n",
    "print(\"\\n Asset betas relative to SPY:\")\n",
    "display(betas)\n",
    "\n",
    "print(\"\\n Idiosyncratic variances:\")\n",
    "display(idio_var)"
   ]
  },
  {
   "cell_type": "markdown",
   "id": "28b8f091",
   "metadata": {},
   "source": [
    "## Fama-French 3-Factor VaR and ES"
   ]
  },
  {
   "cell_type": "markdown",
   "id": "91c2c56c",
   "metadata": {},
   "source": [
    "The Fama–French 3-factor model extends the CAPM by modeling asset returns using three sources of systematic risk:\n",
    "\n",
    "- **Mkt_RF**: excess return of the market over the risk-free rate  \n",
    "- **SMB** (\"Small Minus Big\"): return of small-cap stocks minus large-cap  \n",
    "- **HML** (\"High Minus Low\"): return of high book-to-market stocks minus low  \n",
    "\n",
    "Each asset’s excess return is regressed on these three factors to estimate its **exposures (betas)**. The model assumes:\n",
    "\n",
    "$$\n",
    "R_i - R_f = \\alpha_i + \\beta_{i1} \\cdot \\text{Mkt}_{RF} + \\beta_{i2} \\cdot \\text{SMB} + \\beta_{i3} \\cdot \\text{HML} + \\varepsilon_i\n",
    "$$\n",
    "\n",
    "The estimated covariance matrix of asset returns is reconstructed as:\n",
    "\n",
    "$$\n",
    "\\Sigma = B \\cdot \\Sigma_f \\cdot B^T + D\n",
    "$$\n",
    "\n",
    "Where:\n",
    "- $B$: matrix of asset betas  \n",
    "- $\\Sigma_f$: covariance matrix of factor returns  \n",
    "- $D$: diagonal matrix of idiosyncratic variances  "
   ]
  },
  {
   "cell_type": "markdown",
   "id": "438d04ba",
   "metadata": {},
   "source": [
    "The next code block performs the following steps:\n",
    "\n",
    "1. Downloads the FF3 daily factor data from Ken French's database.\n",
    "2. Computes **excess returns** for each asset over the risk-free rate.\n",
    "3. Regresses each asset’s excess return on the three factors to obtain:\n",
    "   - **Beta coefficients** (exposures to Mkt_RF, SMB, HML)\n",
    "   - **Idiosyncratic variance** (residual risk)\n",
    "4. Builds the **full covariance matrix** of asset returns using the factor structure.\n",
    "5. Computes **portfolio volatility** using the covariance matrix and current weights.\n",
    "6. Calculates:\n",
    "   - **Value-at-Risk (VaR)** at the given confidence level\n",
    "   - **Conditional VaR (CVaR)**, i.e. expected loss beyond the VaR threshold\n",
    "\n",
    "The printed outputs show all key components estimated during this process."
   ]
  },
  {
   "cell_type": "code",
   "execution_count": 26,
   "id": "278ad061",
   "metadata": {},
   "outputs": [
    {
     "data": {
      "text/html": [
       "<div>\n",
       "<style scoped>\n",
       "    .dataframe tbody tr th:only-of-type {\n",
       "        vertical-align: middle;\n",
       "    }\n",
       "\n",
       "    .dataframe tbody tr th {\n",
       "        vertical-align: top;\n",
       "    }\n",
       "\n",
       "    .dataframe thead th {\n",
       "        text-align: right;\n",
       "    }\n",
       "</style>\n",
       "<table border=\"1\" class=\"dataframe\">\n",
       "  <thead>\n",
       "    <tr style=\"text-align: right;\">\n",
       "      <th></th>\n",
       "      <th>Mkt_RF</th>\n",
       "      <th>SMB</th>\n",
       "      <th>HML</th>\n",
       "      <th>RF</th>\n",
       "    </tr>\n",
       "  </thead>\n",
       "  <tbody>\n",
       "    <tr>\n",
       "      <th>2024-01-03</th>\n",
       "      <td>-0.0101</td>\n",
       "      <td>-0.0194</td>\n",
       "      <td>-0.0014</td>\n",
       "      <td>0.00022</td>\n",
       "    </tr>\n",
       "    <tr>\n",
       "      <th>2024-01-04</th>\n",
       "      <td>-0.0033</td>\n",
       "      <td>0.0021</td>\n",
       "      <td>0.0009</td>\n",
       "      <td>0.00022</td>\n",
       "    </tr>\n",
       "    <tr>\n",
       "      <th>2024-01-05</th>\n",
       "      <td>0.0015</td>\n",
       "      <td>-0.0081</td>\n",
       "      <td>0.0065</td>\n",
       "      <td>0.00022</td>\n",
       "    </tr>\n",
       "    <tr>\n",
       "      <th>2024-01-08</th>\n",
       "      <td>0.0149</td>\n",
       "      <td>0.0091</td>\n",
       "      <td>-0.0131</td>\n",
       "      <td>0.00022</td>\n",
       "    </tr>\n",
       "    <tr>\n",
       "      <th>2024-01-09</th>\n",
       "      <td>-0.0021</td>\n",
       "      <td>-0.0043</td>\n",
       "      <td>-0.0090</td>\n",
       "      <td>0.00022</td>\n",
       "    </tr>\n",
       "  </tbody>\n",
       "</table>\n",
       "</div>"
      ],
      "text/plain": [
       "            Mkt_RF     SMB     HML       RF\n",
       "2024-01-03 -0.0101 -0.0194 -0.0014  0.00022\n",
       "2024-01-04 -0.0033  0.0021  0.0009  0.00022\n",
       "2024-01-05  0.0015 -0.0081  0.0065  0.00022\n",
       "2024-01-08  0.0149  0.0091 -0.0131  0.00022\n",
       "2024-01-09 -0.0021 -0.0043 -0.0090  0.00022"
      ]
     },
     "execution_count": 26,
     "metadata": {},
     "output_type": "execute_result"
    }
   ],
   "source": [
    "# Download FF3 daily factors and restrict to portfolio date range\n",
    "ff_factors = fm.load_ff3_factors(start=returns.index[0], end=returns.index[-1])\n",
    "\n",
    "# Check first few rows\n",
    "ff_factors.head()"
   ]
  },
  {
   "cell_type": "code",
   "execution_count": 27,
   "id": "596d6bab",
   "metadata": {},
   "outputs": [
    {
     "name": "stdout",
     "output_type": "stream",
     "text": [
      "FF3 VaR  (99%): 72.30 USD\n",
      "FF3 CVaR (99%): 82.84 USD\n",
      "\n",
      "FF3 Betas:\n"
     ]
    },
    {
     "data": {
      "text/html": [
       "<div>\n",
       "<style scoped>\n",
       "    .dataframe tbody tr th:only-of-type {\n",
       "        vertical-align: middle;\n",
       "    }\n",
       "\n",
       "    .dataframe tbody tr th {\n",
       "        vertical-align: top;\n",
       "    }\n",
       "\n",
       "    .dataframe thead th {\n",
       "        text-align: right;\n",
       "    }\n",
       "</style>\n",
       "<table border=\"1\" class=\"dataframe\">\n",
       "  <thead>\n",
       "    <tr style=\"text-align: right;\">\n",
       "      <th></th>\n",
       "      <th>Mkt_RF</th>\n",
       "      <th>SMB</th>\n",
       "      <th>HML</th>\n",
       "    </tr>\n",
       "  </thead>\n",
       "  <tbody>\n",
       "    <tr>\n",
       "      <th>AAPL</th>\n",
       "      <td>0.756763</td>\n",
       "      <td>0.003323</td>\n",
       "      <td>-0.301983</td>\n",
       "    </tr>\n",
       "    <tr>\n",
       "      <th>MSFT</th>\n",
       "      <td>1.045876</td>\n",
       "      <td>-0.305718</td>\n",
       "      <td>-0.116980</td>\n",
       "    </tr>\n",
       "    <tr>\n",
       "      <th>NVDA</th>\n",
       "      <td>2.310951</td>\n",
       "      <td>-0.930216</td>\n",
       "      <td>-0.890198</td>\n",
       "    </tr>\n",
       "  </tbody>\n",
       "</table>\n",
       "</div>"
      ],
      "text/plain": [
       "        Mkt_RF       SMB       HML\n",
       "AAPL  0.756763  0.003323 -0.301983\n",
       "MSFT  1.045876 -0.305718 -0.116980\n",
       "NVDA  2.310951 -0.930216 -0.890198"
      ]
     },
     "metadata": {},
     "output_type": "display_data"
    },
    {
     "name": "stdout",
     "output_type": "stream",
     "text": [
      "\n",
      " Idiosyncratic variances:\n"
     ]
    },
    {
     "data": {
      "text/plain": [
       "AAPL    0.000315\n",
       "MSFT    0.000173\n",
       "NVDA    0.000931\n",
       "dtype: float64"
      ]
     },
     "metadata": {},
     "output_type": "display_data"
    },
    {
     "name": "stdout",
     "output_type": "stream",
     "text": [
      "\n",
      " FF3 Covariance Matrix (Σ):\n"
     ]
    },
    {
     "data": {
      "text/html": [
       "<div>\n",
       "<style scoped>\n",
       "    .dataframe tbody tr th:only-of-type {\n",
       "        vertical-align: middle;\n",
       "    }\n",
       "\n",
       "    .dataframe tbody tr th {\n",
       "        vertical-align: top;\n",
       "    }\n",
       "\n",
       "    .dataframe thead th {\n",
       "        text-align: right;\n",
       "    }\n",
       "</style>\n",
       "<table border=\"1\" class=\"dataframe\">\n",
       "  <thead>\n",
       "    <tr style=\"text-align: right;\">\n",
       "      <th></th>\n",
       "      <th>AAPL</th>\n",
       "      <th>MSFT</th>\n",
       "      <th>NVDA</th>\n",
       "    </tr>\n",
       "  </thead>\n",
       "  <tbody>\n",
       "    <tr>\n",
       "      <th>AAPL</th>\n",
       "      <td>0.000360</td>\n",
       "      <td>0.000051</td>\n",
       "      <td>0.000127</td>\n",
       "    </tr>\n",
       "    <tr>\n",
       "      <th>MSFT</th>\n",
       "      <td>0.000051</td>\n",
       "      <td>0.000234</td>\n",
       "      <td>0.000150</td>\n",
       "    </tr>\n",
       "    <tr>\n",
       "      <th>NVDA</th>\n",
       "      <td>0.000127</td>\n",
       "      <td>0.000150</td>\n",
       "      <td>0.001324</td>\n",
       "    </tr>\n",
       "  </tbody>\n",
       "</table>\n",
       "</div>"
      ],
      "text/plain": [
       "          AAPL      MSFT      NVDA\n",
       "AAPL  0.000360  0.000051  0.000127\n",
       "MSFT  0.000051  0.000234  0.000150\n",
       "NVDA  0.000127  0.000150  0.001324"
      ]
     },
     "metadata": {},
     "output_type": "display_data"
    }
   ],
   "source": [
    "var_ff, es_ff, ff_betas, ff_resid, ff_cov = fm.ff3_var_cvar(\n",
    "    prices=prices, shares=shares, alpha=0.99\n",
    ")\n",
    "\n",
    "print(f\"FF3 VaR  (99%): {var_ff:,.2f} USD\")\n",
    "print(f\"FF3 CVaR (99%): {cvar_ff:,.2f} USD\\n\")\n",
    "\n",
    "print(\"FF3 Betas:\")\n",
    "display(ff_betas)\n",
    "\n",
    "print(\"\\n Idiosyncratic variances:\")\n",
    "display(ff_resid)\n",
    "\n",
    "print(\"\\n FF3 Covariance Matrix (Σ):\")\n",
    "display(pd.DataFrame(ff_cov, index=ff_betas.index, columns=ff_betas.index))"
   ]
  }
 ],
 "metadata": {
  "kernelspec": {
   "display_name": "Python 3",
   "language": "python",
   "name": "python3"
  },
  "language_info": {
   "codemirror_mode": {
    "name": "ipython",
    "version": 3
   },
   "file_extension": ".py",
   "mimetype": "text/x-python",
   "name": "python",
   "nbconvert_exporter": "python",
   "pygments_lexer": "ipython3",
   "version": "3.12.3"
  }
 },
 "nbformat": 4,
 "nbformat_minor": 5
}
