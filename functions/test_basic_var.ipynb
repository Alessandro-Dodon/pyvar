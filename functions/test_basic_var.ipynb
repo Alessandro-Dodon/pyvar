{
 "cells": [
  {
   "cell_type": "markdown",
   "metadata": {},
   "source": [
    "# First Test Basic VaR Models "
   ]
  },
  {
   "cell_type": "code",
   "execution_count": 2,
   "metadata": {},
   "outputs": [],
   "source": [
    "import yfinance as yf\n",
    "import pandas as pd\n",
    "import numpy as np\n",
    "\n",
    "# Import functions\n",
    "import basic_var \n",
    "import backtesting as BT\n",
    "import plots\n",
    "import expected_shortfall as ES\n",
    "import data_download as dd"
   ]
  },
  {
   "cell_type": "markdown",
   "metadata": {},
   "source": [
    "### Data"
   ]
  },
  {
   "cell_type": "code",
   "execution_count": 15,
   "metadata": {},
   "outputs": [
    {
     "data": {
      "text/plain": [
       "'# Download data\\nsp500_data = yf.download(\"^GSPC\", start=\"2000-01-01\", end=\"2024-01-01\")\\nsp500_data[\"Log Returns\"] = np.log(sp500_data[\"Close\"] / sp500_data[\"Close\"].shift(1))\\nreturns = sp500_data[\"Log Returns\"].dropna()'"
      ]
     },
     "execution_count": 15,
     "metadata": {},
     "output_type": "execute_result"
    }
   ],
   "source": [
    "'''# Download data\n",
    "sp500_data = yf.download(\"^GSPC\", start=\"2000-01-01\", end=\"2024-01-01\")\n",
    "sp500_data[\"Log Returns\"] = np.log(sp500_data[\"Close\"] / sp500_data[\"Close\"].shift(1))\n",
    "returns = sp500_data[\"Log Returns\"].dropna()'''"
   ]
  },
  {
   "cell_type": "markdown",
   "metadata": {},
   "source": [
    "# DATA USANDO LE NOSTRE FUNZIONI\n"
   ]
  },
  {
   "cell_type": "code",
   "execution_count": null,
   "metadata": {},
   "outputs": [
    {
     "data": {
      "text/plain": [
       "Date\n",
       "2020-01-03   -0.007318\n",
       "2020-01-06    0.005169\n",
       "2020-01-07   -0.010377\n",
       "2020-01-08    0.019549\n",
       "2020-01-09    0.019013\n",
       "Name: Returns, dtype: float64"
      ]
     },
     "execution_count": 4,
     "metadata": {},
     "output_type": "execute_result"
    }
   ],
   "source": [
    "# Define tickers and number of shares\n",
    "tickers = [\"MSFT\", \"NVDA\", \"AAPL\"]\n",
    "shares = pd.Series({\"MSFT\": 3, \"NVDA\": 3, \"AAPL\": 3})\n",
    "\n",
    "# Download price data\n",
    "prices = dd.get_raw_prices(tickers, start=\"2015-01-01\")\n",
    "prices = dd.convert_to_base(prices, base='EUR', show_currency_detection=False)\n",
    "\n",
    "# Compute portfolio value each day\n",
    "portfolio_value = (prices * shares).sum(axis=1)\n",
    "\n",
    "# Compute simple daily returns\n",
    "returns = portfolio_value.pct_change().dropna()\n",
    "\n",
    "# Return as DataFrame (same format as SP500 example)\n",
    "portfolio_returns_df = returns.to_frame(name=\"Returns\")\n",
    "\n",
    "returns = portfolio_returns_df[\"Returns\"].dropna()\n",
    "returns.head()"
   ]
  },
  {
   "cell_type": "code",
   "execution_count": 6,
   "metadata": {},
   "outputs": [],
   "source": [
    "# Set parameters\n",
    "confidence_level = 0.99 # <----- Can choose 0.95 etc"
   ]
  },
  {
   "cell_type": "markdown",
   "metadata": {},
   "source": [
    "### Historical VaR"
   ]
  },
  {
   "cell_type": "code",
   "execution_count": null,
   "metadata": {},
   "outputs": [
    {
     "name": "stdout",
     "output_type": "stream",
     "text": [
      "Historical VaR estimate (abs): 5.35%\n",
      "Historical ES estimate (abs): 7.05%\n"
     ]
    }
   ],
   "source": [
    "# Apply Historical VaR model\n",
    "historical_output, var = basic_var.var_historical(returns, confidence_level)\n",
    "\n",
    "print(f\"Historical VaR estimate (abs): {var:.2f}%\")\n",
    "\n",
    "# Compute ES for the whole period\n",
    "historical_output, es_estimate = ES.es_historical(historical_output)\n",
    "\n",
    "print(f\"Historical ES estimate (abs): {100 * es_estimate:.2f}%\")\n",
    "\n",
    "\n",
    "# Plot interactive VaR\n",
    "fig_var = plots.plot_backtest(historical_output, interactive=False)\n",
    "\n"
   ]
  },
  {
   "cell_type": "code",
   "execution_count": null,
   "metadata": {},
   "outputs": [
    {
     "data": {
      "text/html": [
       "<div>\n",
       "<style scoped>\n",
       "    .dataframe tbody tr th:only-of-type {\n",
       "        vertical-align: middle;\n",
       "    }\n",
       "\n",
       "    .dataframe tbody tr th {\n",
       "        vertical-align: top;\n",
       "    }\n",
       "\n",
       "    .dataframe thead th {\n",
       "        text-align: right;\n",
       "    }\n",
       "</style>\n",
       "<table border=\"1\" class=\"dataframe\">\n",
       "  <thead>\n",
       "    <tr style=\"text-align: right;\">\n",
       "      <th></th>\n",
       "      <th>Returns</th>\n",
       "      <th>VaR</th>\n",
       "      <th>VaR Violation</th>\n",
       "      <th>ES</th>\n",
       "    </tr>\n",
       "    <tr>\n",
       "      <th>Date</th>\n",
       "      <th></th>\n",
       "      <th></th>\n",
       "      <th></th>\n",
       "      <th></th>\n",
       "    </tr>\n",
       "  </thead>\n",
       "  <tbody>\n",
       "    <tr>\n",
       "      <th>2020-01-03</th>\n",
       "      <td>-0.011688</td>\n",
       "      <td>0.047872</td>\n",
       "      <td>False</td>\n",
       "      <td>0.066165</td>\n",
       "    </tr>\n",
       "    <tr>\n",
       "      <th>2020-01-06</th>\n",
       "      <td>0.004317</td>\n",
       "      <td>0.047872</td>\n",
       "      <td>False</td>\n",
       "      <td>0.066165</td>\n",
       "    </tr>\n",
       "    <tr>\n",
       "      <th>2020-01-07</th>\n",
       "      <td>-0.007183</td>\n",
       "      <td>0.047872</td>\n",
       "      <td>False</td>\n",
       "      <td>0.066165</td>\n",
       "    </tr>\n",
       "    <tr>\n",
       "      <th>2020-01-08</th>\n",
       "      <td>0.015611</td>\n",
       "      <td>0.047872</td>\n",
       "      <td>False</td>\n",
       "      <td>0.066165</td>\n",
       "    </tr>\n",
       "    <tr>\n",
       "      <th>2020-01-09</th>\n",
       "      <td>0.015219</td>\n",
       "      <td>0.047872</td>\n",
       "      <td>False</td>\n",
       "      <td>0.066165</td>\n",
       "    </tr>\n",
       "  </tbody>\n",
       "</table>\n",
       "</div>"
      ],
      "text/plain": [
       "             Returns       VaR  VaR Violation        ES\n",
       "Date                                                   \n",
       "2020-01-03 -0.011688  0.047872          False  0.066165\n",
       "2020-01-06  0.004317  0.047872          False  0.066165\n",
       "2020-01-07 -0.007183  0.047872          False  0.066165\n",
       "2020-01-08  0.015611  0.047872          False  0.066165\n",
       "2020-01-09  0.015219  0.047872          False  0.066165"
      ]
     },
     "execution_count": 5,
     "metadata": {},
     "output_type": "execute_result"
    }
   ],
   "source": [
    "historical_output.head()"
   ]
  },
  {
   "cell_type": "markdown",
   "metadata": {},
   "source": [
    "### Parametric VaR"
   ]
  },
  {
   "cell_type": "code",
   "execution_count": null,
   "metadata": {},
   "outputs": [
    {
     "name": "stdout",
     "output_type": "stream",
     "text": [
      "Parametric VaR estimate (abs): 5.06%\n",
      "Parametric ES estimate (abs): 7.08%\n"
     ]
    },
    {
     "data": {
      "text/plain": [
       "'\\n# Plot interactive VaR and ES for a subset\\nfig_es = plots.plot_backtest(param_output, subset=(\"2019-11-01\", \"2020-11-30\"), interactive=False)\\n'"
      ]
     },
     "execution_count": 6,
     "metadata": {},
     "output_type": "execute_result"
    }
   ],
   "source": [
    "# Apply Parametric VaR model (choose distribution: \"normal\", \"t\", or \"ged\")\n",
    "param_output, var = basic_var.var_parametric(returns, confidence_level, distribution=\"t\")\n",
    "\n",
    "print(f\"Parametric VaR estimate (abs): {var:.2f}%\")\n",
    "\n",
    "# Compute ES for the whole period\n",
    "param_output, es_estimate = ES.es_parametric(param_output, returns, confidence_level, distribution=\"t\")\n",
    "\n",
    "print(f\"Parametric ES estimate (abs): {100 * es_estimate:.2f}%\")\n",
    "\n",
    "\n",
    "# Plot interactive VaR and ES for a subset\n",
    "fig_es = plots.plot_backtest(param_output, subset=(\"2019-11-01\", \"2020-11-30\"), interactive=False)\n"
   ]
  },
  {
   "cell_type": "markdown",
   "metadata": {},
   "source": [
    "### Test Wealth Input"
   ]
  },
  {
   "cell_type": "code",
   "execution_count": null,
   "metadata": {},
   "outputs": [
    {
     "name": "stdout",
     "output_type": "stream",
     "text": [
      "Parametric VaR estimate $ (abs): 114.37\n"
     ]
    },
    {
     "data": {
      "text/html": [
       "<div>\n",
       "<style scoped>\n",
       "    .dataframe tbody tr th:only-of-type {\n",
       "        vertical-align: middle;\n",
       "    }\n",
       "\n",
       "    .dataframe tbody tr th {\n",
       "        vertical-align: top;\n",
       "    }\n",
       "\n",
       "    .dataframe thead th {\n",
       "        text-align: right;\n",
       "    }\n",
       "</style>\n",
       "<table border=\"1\" class=\"dataframe\">\n",
       "  <thead>\n",
       "    <tr style=\"text-align: right;\">\n",
       "      <th></th>\n",
       "      <th>Returns</th>\n",
       "      <th>VaR</th>\n",
       "      <th>VaR Violation</th>\n",
       "      <th>VaR_monetary</th>\n",
       "    </tr>\n",
       "    <tr>\n",
       "      <th>Date</th>\n",
       "      <th></th>\n",
       "      <th></th>\n",
       "      <th></th>\n",
       "      <th></th>\n",
       "    </tr>\n",
       "  </thead>\n",
       "  <tbody>\n",
       "    <tr>\n",
       "      <th>2020-01-03</th>\n",
       "      <td>-0.011688</td>\n",
       "      <td>0.050566</td>\n",
       "      <td>False</td>\n",
       "      <td>114.367249</td>\n",
       "    </tr>\n",
       "    <tr>\n",
       "      <th>2020-01-06</th>\n",
       "      <td>0.004317</td>\n",
       "      <td>0.050566</td>\n",
       "      <td>False</td>\n",
       "      <td>114.367249</td>\n",
       "    </tr>\n",
       "    <tr>\n",
       "      <th>2020-01-07</th>\n",
       "      <td>-0.007183</td>\n",
       "      <td>0.050566</td>\n",
       "      <td>False</td>\n",
       "      <td>114.367249</td>\n",
       "    </tr>\n",
       "    <tr>\n",
       "      <th>2020-01-08</th>\n",
       "      <td>0.015611</td>\n",
       "      <td>0.050566</td>\n",
       "      <td>False</td>\n",
       "      <td>114.367249</td>\n",
       "    </tr>\n",
       "    <tr>\n",
       "      <th>2020-01-09</th>\n",
       "      <td>0.015219</td>\n",
       "      <td>0.050566</td>\n",
       "      <td>False</td>\n",
       "      <td>114.367249</td>\n",
       "    </tr>\n",
       "  </tbody>\n",
       "</table>\n",
       "</div>"
      ],
      "text/plain": [
       "             Returns       VaR  VaR Violation  VaR_monetary\n",
       "Date                                                       \n",
       "2020-01-03 -0.011688  0.050566          False    114.367249\n",
       "2020-01-06  0.004317  0.050566          False    114.367249\n",
       "2020-01-07 -0.007183  0.050566          False    114.367249\n",
       "2020-01-08  0.015611  0.050566          False    114.367249\n",
       "2020-01-09  0.015219  0.050566          False    114.367249"
      ]
     },
     "execution_count": 8,
     "metadata": {},
     "output_type": "execute_result"
    }
   ],
   "source": [
    "wealth = portfolio_value.iloc[-1]\n",
    "# Apply Parametric VaR model (choose distribution: \"normal\", \"t\", or \"ged\")\n",
    "param_output_wealth, var_wealth = basic_var.var_parametric(returns, confidence_level, distribution=\"t\", wealth=wealth)\n",
    "\n",
    "print(f\"Parametric VaR estimate $ (abs): {var_wealth:.2f}\")\n",
    "\n",
    "param_output_wealth.head()"
   ]
  },
  {
   "cell_type": "code",
   "execution_count": null,
   "metadata": {},
   "outputs": [
    {
     "name": "stdout",
     "output_type": "stream",
     "text": [
      "Parametric ES estimate $ (abs): 160.02\n"
     ]
    },
    {
     "data": {
      "text/html": [
       "<div>\n",
       "<style scoped>\n",
       "    .dataframe tbody tr th:only-of-type {\n",
       "        vertical-align: middle;\n",
       "    }\n",
       "\n",
       "    .dataframe tbody tr th {\n",
       "        vertical-align: top;\n",
       "    }\n",
       "\n",
       "    .dataframe thead th {\n",
       "        text-align: right;\n",
       "    }\n",
       "</style>\n",
       "<table border=\"1\" class=\"dataframe\">\n",
       "  <thead>\n",
       "    <tr style=\"text-align: right;\">\n",
       "      <th></th>\n",
       "      <th>Returns</th>\n",
       "      <th>VaR</th>\n",
       "      <th>VaR Violation</th>\n",
       "      <th>ES</th>\n",
       "      <th>ES_monetary</th>\n",
       "    </tr>\n",
       "    <tr>\n",
       "      <th>Date</th>\n",
       "      <th></th>\n",
       "      <th></th>\n",
       "      <th></th>\n",
       "      <th></th>\n",
       "      <th></th>\n",
       "    </tr>\n",
       "  </thead>\n",
       "  <tbody>\n",
       "    <tr>\n",
       "      <th>2020-01-03</th>\n",
       "      <td>-0.011688</td>\n",
       "      <td>0.050566</td>\n",
       "      <td>False</td>\n",
       "      <td>0.070753</td>\n",
       "      <td>160.023055</td>\n",
       "    </tr>\n",
       "    <tr>\n",
       "      <th>2020-01-06</th>\n",
       "      <td>0.004317</td>\n",
       "      <td>0.050566</td>\n",
       "      <td>False</td>\n",
       "      <td>0.070753</td>\n",
       "      <td>160.023055</td>\n",
       "    </tr>\n",
       "    <tr>\n",
       "      <th>2020-01-07</th>\n",
       "      <td>-0.007183</td>\n",
       "      <td>0.050566</td>\n",
       "      <td>False</td>\n",
       "      <td>0.070753</td>\n",
       "      <td>160.023055</td>\n",
       "    </tr>\n",
       "    <tr>\n",
       "      <th>2020-01-08</th>\n",
       "      <td>0.015611</td>\n",
       "      <td>0.050566</td>\n",
       "      <td>False</td>\n",
       "      <td>0.070753</td>\n",
       "      <td>160.023055</td>\n",
       "    </tr>\n",
       "    <tr>\n",
       "      <th>2020-01-09</th>\n",
       "      <td>0.015219</td>\n",
       "      <td>0.050566</td>\n",
       "      <td>False</td>\n",
       "      <td>0.070753</td>\n",
       "      <td>160.023055</td>\n",
       "    </tr>\n",
       "  </tbody>\n",
       "</table>\n",
       "</div>"
      ],
      "text/plain": [
       "             Returns       VaR  VaR Violation        ES  ES_monetary\n",
       "Date                                                                \n",
       "2020-01-03 -0.011688  0.050566          False  0.070753   160.023055\n",
       "2020-01-06  0.004317  0.050566          False  0.070753   160.023055\n",
       "2020-01-07 -0.007183  0.050566          False  0.070753   160.023055\n",
       "2020-01-08  0.015611  0.050566          False  0.070753   160.023055\n",
       "2020-01-09  0.015219  0.050566          False  0.070753   160.023055"
      ]
     },
     "execution_count": 9,
     "metadata": {},
     "output_type": "execute_result"
    }
   ],
   "source": [
    "# Compute ES for the whole period\n",
    "param_output_es_wealth, es_estimate_wealth = ES.es_parametric(param_output, returns, confidence_level, distribution=\"t\", wealth=wealth)\n",
    "\n",
    "print(f\"Parametric ES estimate $ (abs): {es_estimate_wealth:.2f}\")\n",
    "\n",
    "param_output_es_wealth.head()   "
   ]
  },
  {
   "cell_type": "markdown",
   "metadata": {},
   "source": [
    "### Backtesting"
   ]
  },
  {
   "cell_type": "code",
   "execution_count": null,
   "metadata": {},
   "outputs": [
    {
     "name": "stdout",
     "output_type": "stream",
     "text": [
      "Total VaR Violations: 11\n",
      "Violation Rate: 0.82%\n"
     ]
    }
   ],
   "source": [
    "total_violations, violation_rate = BT.count_violations(param_output)\n",
    "\n",
    "print(f\"Total VaR Violations: {total_violations}\")\n",
    "print(f\"Violation Rate: {violation_rate:.2f}%\")\n"
   ]
  },
  {
   "cell_type": "code",
   "execution_count": null,
   "metadata": {},
   "outputs": [
    {
     "name": "stdout",
     "output_type": "stream",
     "text": [
      "\n",
      "Kupiec Test Results:\n",
      "LR_uc: 0.4806608105848653\n",
      "p_value: 0.4881231489719102\n",
      "reject_null: False\n"
     ]
    }
   ],
   "source": [
    "kupiec_results = BT.kupiec_test(\n",
    "    total_violations=total_violations,\n",
    "    total_days=len(param_output),\n",
    "    confidence_level=confidence_level\n",
    ")\n",
    "\n",
    "print(\"\\nKupiec Test Results:\")\n",
    "for key, value in kupiec_results.items():\n",
    "    print(f\"{key}: {value}\")"
   ]
  },
  {
   "cell_type": "code",
   "execution_count": null,
   "metadata": {},
   "outputs": [
    {
     "name": "stdout",
     "output_type": "stream",
     "text": [
      "\n",
      "Christoffersen Test Results:\n",
      "LR_c: 3.1521174432905212\n",
      "p_value: 0.07582850522567786\n",
      "reject_null: False\n"
     ]
    }
   ],
   "source": [
    "christoffersen_results = BT.christoffersen_test(param_output)\n",
    "\n",
    "print(\"\\nChristoffersen Test Results:\")\n",
    "for key, value in christoffersen_results.items():\n",
    "    print(f\"{key}: {value}\")\n"
   ]
  },
  {
   "cell_type": "code",
   "execution_count": null,
   "metadata": {},
   "outputs": [
    {
     "name": "stdout",
     "output_type": "stream",
     "text": [
      "\n",
      "Joint Test Results:\n",
      "LR_total: 3.6327782538753866\n",
      "p_value: 0.16261186290446072\n",
      "reject_null: False\n"
     ]
    }
   ],
   "source": [
    "joint_results = BT.joint_lr_test(\n",
    "    LR_uc=kupiec_results[\"LR_uc\"],\n",
    "    LR_c=christoffersen_results[\"LR_c\"]\n",
    ")\n",
    "\n",
    "print(\"\\nJoint Test Results:\")\n",
    "for key, value in joint_results.items():\n",
    "    print(f\"{key}: {value}\")"
   ]
  },
  {
   "cell_type": "markdown",
   "metadata": {},
   "source": [
    "### Appendix (DOUBLE CHECK)\n",
    "\n",
    "#### 1. Historical Expected Shortfall (Tail Mean)  \n",
    "Historical ES is the average of losses that exceed the historical VaR threshold.\n",
    "\n",
    "$$\n",
    "\\text{ES} = -\\mathbb{E}[r_t \\mid r_t < -\\text{VaR}_\\alpha]\n",
    "$$\n",
    "\n",
    "#### 2. Parametric Expected Shortfall (Normal or Student-t)  \n",
    "For the Normal distribution, the ES has a closed-form solution:\n",
    "\n",
    "$$\n",
    "\\text{ES}_{\\text{normal}} = \\sigma \\cdot \\frac{\\phi(z_\\alpha)}{1 - \\alpha}\n",
    "$$\n",
    "\n",
    "For the Student-t distribution with $\\nu$ degrees of freedom:\n",
    "\n",
    "$$\n",
    "\\text{ES}_{t} = \\sigma \\cdot \\frac{f_{t_\\nu}(t_\\alpha)}{1 - \\alpha} \\cdot \\frac{\\nu + t_\\alpha^2}{\\nu - 1}\n",
    "$$\n",
    "\n",
    "Where:  \n",
    "- $z_\\alpha$ is the quantile from the standard Normal distribution  \n",
    "- $t_\\alpha$ is the quantile from the Student-t distribution  \n",
    "- $\\phi$ is the PDF of the standard Normal  \n",
    "- $f_{t_\\nu}$ is the PDF of the t-distribution  \n",
    "- $\\sigma$ is the standard deviation or scale parameter\n"
   ]
  }
 ],
 "metadata": {
  "kernelspec": {
   "display_name": "base",
   "language": "python",
   "name": "python3"
  },
  "language_info": {
   "codemirror_mode": {
    "name": "ipython",
    "version": 3
   },
   "file_extension": ".py",
   "mimetype": "text/x-python",
   "name": "python",
   "nbconvert_exporter": "python",
   "pygments_lexer": "ipython3",
   "version": "3.12.3"
  }
 },
 "nbformat": 4,
 "nbformat_minor": 2
}
