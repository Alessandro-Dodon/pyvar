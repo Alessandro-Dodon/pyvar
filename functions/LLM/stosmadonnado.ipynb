{
  "cell_type": "markdown",
  "id": "1ff34398",
  "metadata": {},
  "source": [
    "## 2) Install the Model\n",
    "\n",
    "1. Open LM Studio.\n",
    "2. Go to the **Discover** panel (left menu).\n",
    "\n",
    "![Discover Screenshot](screenshots/discover.png)\n",
    "\n",
    "3. Search for **qwen-3-4b-instruct** and click **Install** to download the model."
  ]
}
