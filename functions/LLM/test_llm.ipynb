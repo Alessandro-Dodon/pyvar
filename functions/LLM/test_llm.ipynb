{
 "cells": [
  {
   "cell_type": "markdown",
   "id": "14923c50",
   "metadata": {},
   "source": [
    "# LM Studio Installation & Usage Demo\n",
    "This notebook guides you through installing LM Studio, loading the model (in this case `qwen-3-4b-instruct`), and demonstrates basic prompting.\n"
   ]
  },
  {
   "cell_type": "markdown",
   "id": "6c9a43ff",
   "metadata": {},
   "source": [
    "## 1) Download and Install LM Studio\n",
    "Go to [https://lmstudio.ai/](https://lmstudio.ai/) and download LM Studio for your operating system.\n",
    "Install the application by following the on-screen instructions.\n"
   ]
  },
  {
   "cell_type": "markdown",
   "id": "b6812267",
   "metadata": {},
   "source": [
    "## 2) Install the Model\n",
    "1. Open LM Studio.\n",
    "2. Go to the **Discover** panel (left menu).\n",
    "\n",
    ![Discover Screenshot](/functions/LLM/LLM_SCREENSHOT/discover.png),
    "\n",
    "3. Search for a suitable model to your machine (we will use **Qwen3 4B**) and click **Install** to download the model."
   ]
  },
  {
   "cell_type": "markdown",
   "id": "c509cd85",
   "metadata": {},
   "source": [
    "## 3) Run the Model Server\n",
    "1. Go to the **Developer** section in LM Studio.\n",
    "\n",
    "![!\\[discover.png\\](LLM\\LLM_SCREENSHOT\\developer.png)](LLM_SCREENSHOT/developer.png)\n",
    "\n",
    "2. At the top of the page, select your model from the dropdown menu.\n",
    "\n",
    "![!\\[discover.png\\](LLM\\LLM_SCREENSHOT\\add_model.png)](LLM_SCREENSHOT/add_model.png)\n",
    "\n",
    "3. Click the **Start Server** button (top-left). Copy the HTTP endpoint URL displayed (on the right).\n",
    "\n",
    "![!\\[discover.png\\](LLM\\LLM_SCREENSHOT\\run_server.png)](LLM_SCREENSHOT/run_server.png)\n"
   ]
  },
  {
   "cell_type": "code",
   "execution_count": 2,
   "id": "b601b7d3",
   "metadata": {},
   "outputs": [
    {
     "name": "stdout",
     "output_type": "stream",
     "text": [
      "Prompt: Explain what the Value at Risk (VaR) is in finance\n",
      ", and how it's used to assess risk. Also, explain the difference between VaR and other risk measures like Expected Shortfall.\n",
      "Value at Risk (VaR) is a statistical technique used in financial risk management to estimate the maximum potential loss of an investment over a specified time period with a given confidence level. It helps investors understand the worst-case scenario for their portfolio within a certain probability threshold.\n",
      "\n",
      "For example, if a portfolio has a VaR of $1 million at a 95% confidence level over a one-day period, it means that there is a 5% chance that the portfolio will lose more than $1 million in a single day. This measure provides a quick and easy way to assess risk, but it does not give information about the magnitude of losses beyond the VaR threshold.\n",
      "\n",
      "In contrast, Expected Shortfall (ES), also known as Conditional VaR, is a risk measure that calculates the expected loss given that a loss has occurred beyond the VaR threshold.\n"
     ]
    }
   ],
   "source": [
    "import llm_rag\n",
    "\n",
    "# override its constants:\n",
    "llm_rag.LMSTUDIO_ENDPOINT = \"http://127.0.0.1:1234\" # Your LM Studio server URL\n",
    "llm_rag.API_PATH          = \"/v1/completions\"\n",
    "llm_rag.MODEL_NAME        = \"qwen-3-4b-instruct\" # Installed model name\n",
    "\n",
    "# now call the function from the module\n",
    "prompt = \"Explain what the Value at Risk (VaR) is in finance\"\n",
    "print(\"Prompt:\", prompt)\n",
    "answer = llm_rag.ask_llm(prompt, max_tokens=200)\n",
    "print(answer)"
   ]
  }
 ],
 "metadata": {
  "kernelspec": {
   "display_name": "base",
   "language": "python",
   "name": "python3"
  },
  "language_info": {
   "codemirror_mode": {
    "name": "ipython",
    "version": 3
   },
   "file_extension": ".py",
   "mimetype": "text/x-python",
   "name": "python",
   "nbconvert_exporter": "python",
   "pygments_lexer": "ipython3",
   "version": "3.12.3"
  }
 },
 "nbformat": 4,
 "nbformat_minor": 5
}
