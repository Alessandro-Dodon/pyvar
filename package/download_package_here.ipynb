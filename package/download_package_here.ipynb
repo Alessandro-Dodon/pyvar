{
 "cells": [
  {
   "cell_type": "markdown",
   "metadata": {},
   "source": [
    "Install once. Once the repo is public we can use the link to download"
   ]
  },
  {
   "cell_type": "code",
   "execution_count": 1,
   "metadata": {},
   "outputs": [],
   "source": [
    "#!pip install -e .  #<--- Uncomment this line to install the package"
   ]
  },
  {
   "cell_type": "markdown",
   "metadata": {},
   "source": [
    "Import Package"
   ]
  },
  {
   "cell_type": "code",
   "execution_count": 2,
   "metadata": {},
   "outputs": [],
   "source": [
    "import pyvar as pvp"
   ]
  },
  {
   "cell_type": "code",
   "execution_count": 3,
   "metadata": {},
   "outputs": [
    {
     "name": "stdout",
     "output_type": "stream",
     "text": [
      "0.1\n"
     ]
    }
   ],
   "source": [
    "print(pvp.__version__)"
   ]
  },
  {
   "cell_type": "code",
   "execution_count": 4,
   "metadata": {},
   "outputs": [
    {
     "name": "stdout",
     "output_type": "stream",
     "text": [
      "Help on package pyvar:\n",
      "\n",
      "NAME\n",
      "    pyvar - pyvar: A Comprehensive Financial Risk Analysis Toolkit\n",
      "\n",
      "DESCRIPTION\n",
      "    pyvar is a modular Python package designed for financial risk modeling,\n",
      "    focusing on Value-at-Risk (VaR) and Expected Shortfall (ES).\n",
      "    It provides analytical tools, interactive visualizations, and rigorous\n",
      "    backtesting utilities to support risk management and portfolio analysis.\n",
      "\n",
      "    Main Features\n",
      "    -------------\n",
      "    - VaR and ES estimation using historical, parametric, simulation, and EVT methods\n",
      "    - Volatility modeling via GARCH, EWMA, ARCH, and MA models\n",
      "    - Portfolio risk decomposition (marginal, incremental, component VaR/ES)\n",
      "    - Time-varying correlation models (EWMA, MA)\n",
      "    - Factor models including CAPM and Fama-French\n",
      "    - Monte Carlo and historical simulations for equities and derivatives\n",
      "    - Backtesting procedures (Kupiec, Christoffersen, Joint LR tests)\n",
      "    - Interactive and static plots for risk metrics and diagnostics\n",
      "\n",
      "    Authors\n",
      "    -------\n",
      "    - Alessandro Dodon\n",
      "    - Niccolò Lecce\n",
      "    - Marco Gasparetti\n",
      "\n",
      "    Version\n",
      "    -------\n",
      "    0.1\n",
      "\n",
      "PACKAGE CONTENTS\n",
      "    backtesting\n",
      "    basic_var\n",
      "    correlation\n",
      "    data_download\n",
      "    evt\n",
      "    factor_models\n",
      "    plots\n",
      "    portfolio\n",
      "    simulations\n",
      "    volatility\n",
      "\n",
      "VERSION\n",
      "    0.1\n",
      "\n",
      "FILE\n",
      "    /Users/aledo/Documents/GitHub/var_py_package/package/pyvar/__init__.py\n",
      "\n",
      "\n"
     ]
    }
   ],
   "source": [
    "# Check out the PyVaR package\n",
    "help(pvp)"
   ]
  },
  {
   "cell_type": "code",
   "execution_count": 5,
   "metadata": {},
   "outputs": [
    {
     "name": "stdout",
     "output_type": "stream",
     "text": [
      "Help on function garch_var in module pyvar.volatility:\n",
      "\n",
      "garch_var(returns, confidence_level=0.99, p=1, q=1, model='GARCH', distribution='normal', wealth=None)\n",
      "    Main\n",
      "    ----\n",
      "    Estimate Value-at-Risk (VaR) using a flexible GARCH-family model.\n",
      "\n",
      "    This function fits a GARCH-type volatility model to a return series using MLE.\n",
      "    Users can choose the volatility model (e.g., GARCH, EGARCH, APARCH) and innovation\n",
      "    distribution (e.g., Normal, Student-t, GED, Skewed-t). Conditional volatility is\n",
      "    extracted to compute standardized residuals and empirical quantile-based VaR.\n",
      "\n",
      "    VaR is computed both in-sample and as a 1-day ahead forecast.\n",
      "\n",
      "    Parameters\n",
      "    ----------\n",
      "    returns : pd.Series\n",
      "        Daily return series in decimal format (e.g., 0.01 = 1%).\n",
      "    confidence_level : float, optional\n",
      "        Confidence level for VaR (e.g., 0.99). Default is 0.99.\n",
      "    p : int, optional\n",
      "        Lag order for the GARCH term. Default is 1.\n",
      "    q : int, optional\n",
      "        Lag order for the ARCH term. Default is 1.\n",
      "    model : {\"GARCH\", \"EGARCH\", \"GJR\", \"APARCH\"}, optional\n",
      "        Volatility model specification. Default is \"GARCH\".\n",
      "    distribution : {\"normal\", \"t\", \"ged\", \"skewt\"}, optional\n",
      "        Distribution for the innovations. Default is \"normal\".\n",
      "    wealth : float, optional\n",
      "        Portfolio value in monetary units. If provided, VaR is also returned in currency.\n",
      "\n",
      "    Returns\n",
      "    -------\n",
      "    result_data : pd.DataFrame\n",
      "        DataFrame with the following columns:\n",
      "        - 'Returns': original return series\n",
      "        - 'Volatility': conditional standard deviation (in decimals)\n",
      "        - 'Innovations': standardized residuals (ε / σ)\n",
      "        - 'VaR': semi-parametric Value-at-Risk (decimal loss)\n",
      "        - 'VaR Violation': boolean flag for VaR breaches\n",
      "        - 'VaR_monetary': optional, monetary VaR if wealth is provided\n",
      "    next_day_var : float\n",
      "        One-step-ahead VaR forecast (decimal loss or monetary loss if wealth is set).\n",
      "\n",
      "    Raises\n",
      "    ------\n",
      "    ValueError\n",
      "        If an unsupported model or distribution is specified.\n",
      "\n",
      "    Notes\n",
      "    -----\n",
      "    - Returns are scaled by 100 before fitting to improve numerical stability.\n",
      "\n"
     ]
    }
   ],
   "source": [
    "# Check out a single function\n",
    "help(pvp.garch_var)"
   ]
  }
 ],
 "metadata": {
  "kernelspec": {
   "display_name": "base",
   "language": "python",
   "name": "python3"
  },
  "language_info": {
   "codemirror_mode": {
    "name": "ipython",
    "version": 3
   },
   "file_extension": ".py",
   "mimetype": "text/x-python",
   "name": "python",
   "nbconvert_exporter": "python",
   "pygments_lexer": "ipython3",
   "version": "3.12.4"
  }
 },
 "nbformat": 4,
 "nbformat_minor": 2
}
