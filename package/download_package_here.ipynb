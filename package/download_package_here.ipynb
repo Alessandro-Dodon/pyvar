{
 "cells": [
  {
   "cell_type": "markdown",
   "metadata": {},
   "source": [
    "Install once. Once the repo is public we can use the link to download"
   ]
  },
  {
   "cell_type": "code",
   "execution_count": null,
   "metadata": {},
   "outputs": [
    {
     "name": "stdout",
     "output_type": "stream",
     "text": [
      "Obtaining file:///Users/aledo/Documents/GitHub/pyvar/package\n",
      "  Preparing metadata (setup.py) ... \u001b[?25ldone\n",
      "\u001b[?25hRequirement already satisfied: numpy in /opt/anaconda3/lib/python3.12/site-packages (from pyvar==0.1) (1.26.4)\n",
      "Requirement already satisfied: pandas in /opt/anaconda3/lib/python3.12/site-packages (from pyvar==0.1) (2.1.4)\n",
      "Requirement already satisfied: scipy in /opt/anaconda3/lib/python3.12/site-packages (from pyvar==0.1) (1.11.4)\n",
      "Requirement already satisfied: yfinance in /opt/anaconda3/lib/python3.12/site-packages (from pyvar==0.1) (0.2.59)\n",
      "Requirement already satisfied: plotly in /opt/anaconda3/lib/python3.12/site-packages (from pyvar==0.1) (5.22.0)\n",
      "Requirement already satisfied: kaleido in /opt/anaconda3/lib/python3.12/site-packages (from pyvar==0.1) (0.2.1)\n",
      "Requirement already satisfied: matplotlib in /opt/anaconda3/lib/python3.12/site-packages (from pyvar==0.1) (3.7.5)\n",
      "Requirement already satisfied: seaborn in /opt/anaconda3/lib/python3.12/site-packages (from pyvar==0.1) (0.13.2)\n",
      "Requirement already satisfied: arch in /opt/anaconda3/lib/python3.12/site-packages (from pyvar==0.1) (7.2.0)\n",
      "Requirement already satisfied: statsmodels in /opt/anaconda3/lib/python3.12/site-packages (from pyvar==0.1) (0.14.2)\n",
      "Requirement already satisfied: ipython in /opt/anaconda3/lib/python3.12/site-packages (from pyvar==0.1) (8.25.0)\n",
      "Requirement already satisfied: requests in /opt/anaconda3/lib/python3.12/site-packages (from pyvar==0.1) (2.32.2)\n",
      "Requirement already satisfied: python-dateutil>=2.8.2 in /opt/anaconda3/lib/python3.12/site-packages (from pandas->pyvar==0.1) (2.9.0.post0)\n",
      "Requirement already satisfied: pytz>=2020.1 in /opt/anaconda3/lib/python3.12/site-packages (from pandas->pyvar==0.1) (2024.1)\n",
      "Requirement already satisfied: tzdata>=2022.1 in /opt/anaconda3/lib/python3.12/site-packages (from pandas->pyvar==0.1) (2023.3)\n",
      "Requirement already satisfied: patsy>=0.5.6 in /opt/anaconda3/lib/python3.12/site-packages (from statsmodels->pyvar==0.1) (0.5.6)\n",
      "Requirement already satisfied: packaging>=21.3 in /opt/anaconda3/lib/python3.12/site-packages (from statsmodels->pyvar==0.1) (23.2)\n",
      "Requirement already satisfied: decorator in /opt/anaconda3/lib/python3.12/site-packages (from ipython->pyvar==0.1) (5.1.1)\n",
      "Requirement already satisfied: jedi>=0.16 in /opt/anaconda3/lib/python3.12/site-packages (from ipython->pyvar==0.1) (0.18.1)\n",
      "Requirement already satisfied: matplotlib-inline in /opt/anaconda3/lib/python3.12/site-packages (from ipython->pyvar==0.1) (0.1.6)\n",
      "Requirement already satisfied: prompt-toolkit<3.1.0,>=3.0.41 in /opt/anaconda3/lib/python3.12/site-packages (from ipython->pyvar==0.1) (3.0.43)\n",
      "Requirement already satisfied: pygments>=2.4.0 in /opt/anaconda3/lib/python3.12/site-packages (from ipython->pyvar==0.1) (2.15.1)\n",
      "Requirement already satisfied: stack-data in /opt/anaconda3/lib/python3.12/site-packages (from ipython->pyvar==0.1) (0.2.0)\n",
      "Requirement already satisfied: traitlets>=5.13.0 in /opt/anaconda3/lib/python3.12/site-packages (from ipython->pyvar==0.1) (5.14.3)\n",
      "Requirement already satisfied: pexpect>4.3 in /opt/anaconda3/lib/python3.12/site-packages (from ipython->pyvar==0.1) (4.8.0)\n",
      "Requirement already satisfied: contourpy>=1.0.1 in /opt/anaconda3/lib/python3.12/site-packages (from matplotlib->pyvar==0.1) (1.2.0)\n",
      "Requirement already satisfied: cycler>=0.10 in /opt/anaconda3/lib/python3.12/site-packages (from matplotlib->pyvar==0.1) (0.11.0)\n",
      "Requirement already satisfied: fonttools>=4.22.0 in /opt/anaconda3/lib/python3.12/site-packages (from matplotlib->pyvar==0.1) (4.51.0)\n",
      "Requirement already satisfied: kiwisolver>=1.0.1 in /opt/anaconda3/lib/python3.12/site-packages (from matplotlib->pyvar==0.1) (1.4.4)\n",
      "Requirement already satisfied: pillow>=6.2.0 in /opt/anaconda3/lib/python3.12/site-packages (from matplotlib->pyvar==0.1) (10.3.0)\n",
      "Requirement already satisfied: pyparsing>=2.3.1 in /opt/anaconda3/lib/python3.12/site-packages (from matplotlib->pyvar==0.1) (3.0.9)\n",
      "Requirement already satisfied: tenacity>=6.2.0 in /opt/anaconda3/lib/python3.12/site-packages (from plotly->pyvar==0.1) (9.1.2)\n",
      "Requirement already satisfied: charset-normalizer<4,>=2 in /opt/anaconda3/lib/python3.12/site-packages (from requests->pyvar==0.1) (2.0.4)\n",
      "Requirement already satisfied: idna<4,>=2.5 in /opt/anaconda3/lib/python3.12/site-packages (from requests->pyvar==0.1) (3.7)\n",
      "Requirement already satisfied: urllib3<3,>=1.21.1 in /opt/anaconda3/lib/python3.12/site-packages (from requests->pyvar==0.1) (1.26.20)\n",
      "Requirement already satisfied: certifi>=2017.4.17 in /opt/anaconda3/lib/python3.12/site-packages (from requests->pyvar==0.1) (2024.8.30)\n",
      "Requirement already satisfied: multitasking>=0.0.7 in /opt/anaconda3/lib/python3.12/site-packages (from yfinance->pyvar==0.1) (0.0.11)\n",
      "Requirement already satisfied: platformdirs>=2.0.0 in /opt/anaconda3/lib/python3.12/site-packages (from yfinance->pyvar==0.1) (3.10.0)\n",
      "Requirement already satisfied: frozendict>=2.3.4 in /opt/anaconda3/lib/python3.12/site-packages (from yfinance->pyvar==0.1) (2.4.2)\n",
      "Requirement already satisfied: peewee>=3.16.2 in /opt/anaconda3/lib/python3.12/site-packages (from yfinance->pyvar==0.1) (3.17.8)\n",
      "Requirement already satisfied: beautifulsoup4>=4.11.1 in /opt/anaconda3/lib/python3.12/site-packages (from yfinance->pyvar==0.1) (4.12.3)\n",
      "Requirement already satisfied: curl_cffi>=0.7 in /opt/anaconda3/lib/python3.12/site-packages (from yfinance->pyvar==0.1) (0.10.0)\n",
      "Requirement already satisfied: protobuf<6,>=5.29.0 in /opt/anaconda3/lib/python3.12/site-packages (from yfinance->pyvar==0.1) (5.29.4)\n",
      "Requirement already satisfied: websockets>=11.0 in /opt/anaconda3/lib/python3.12/site-packages (from yfinance->pyvar==0.1) (15.0.1)\n",
      "Requirement already satisfied: soupsieve>1.2 in /opt/anaconda3/lib/python3.12/site-packages (from beautifulsoup4>=4.11.1->yfinance->pyvar==0.1) (2.5)\n",
      "Requirement already satisfied: cffi>=1.12.0 in /opt/anaconda3/lib/python3.12/site-packages (from curl_cffi>=0.7->yfinance->pyvar==0.1) (1.16.0)\n",
      "Requirement already satisfied: parso<0.9.0,>=0.8.0 in /opt/anaconda3/lib/python3.12/site-packages (from jedi>=0.16->ipython->pyvar==0.1) (0.8.3)\n",
      "Requirement already satisfied: six in /opt/anaconda3/lib/python3.12/site-packages (from patsy>=0.5.6->statsmodels->pyvar==0.1) (1.16.0)\n",
      "Requirement already satisfied: ptyprocess>=0.5 in /opt/anaconda3/lib/python3.12/site-packages (from pexpect>4.3->ipython->pyvar==0.1) (0.7.0)\n",
      "Requirement already satisfied: wcwidth in /opt/anaconda3/lib/python3.12/site-packages (from prompt-toolkit<3.1.0,>=3.0.41->ipython->pyvar==0.1) (0.2.5)\n",
      "Requirement already satisfied: executing in /opt/anaconda3/lib/python3.12/site-packages (from stack-data->ipython->pyvar==0.1) (0.8.3)\n",
      "Requirement already satisfied: asttokens in /opt/anaconda3/lib/python3.12/site-packages (from stack-data->ipython->pyvar==0.1) (2.0.5)\n",
      "Requirement already satisfied: pure-eval in /opt/anaconda3/lib/python3.12/site-packages (from stack-data->ipython->pyvar==0.1) (0.2.2)\n",
      "Requirement already satisfied: pycparser in /opt/anaconda3/lib/python3.12/site-packages (from cffi>=1.12.0->curl_cffi>=0.7->yfinance->pyvar==0.1) (2.21)\n",
      "Installing collected packages: pyvar\n",
      "  Attempting uninstall: pyvar\n",
      "    Found existing installation: pyvar 0.1\n",
      "    Uninstalling pyvar-0.1:\n",
      "      Successfully uninstalled pyvar-0.1\n",
      "  Running setup.py develop for pyvar\n",
      "Successfully installed pyvar-0.1\n"
     ]
    }
   ],
   "source": [
    "#!pip install -e .  #<--- Uncomment this line to install the package"
   ]
  },
  {
   "cell_type": "markdown",
   "metadata": {},
   "source": [
    "Import Package"
   ]
  },
  {
   "cell_type": "code",
   "execution_count": 2,
   "metadata": {},
   "outputs": [],
   "source": [
    "import pyvar as pvp"
   ]
  },
  {
   "cell_type": "code",
   "execution_count": 3,
   "metadata": {},
   "outputs": [
    {
     "name": "stdout",
     "output_type": "stream",
     "text": [
      "0.1\n"
     ]
    }
   ],
   "source": [
    "print(pvp.__version__)"
   ]
  },
  {
   "cell_type": "code",
   "execution_count": 4,
   "metadata": {},
   "outputs": [
    {
     "name": "stdout",
     "output_type": "stream",
     "text": [
      "Help on package pyvar:\n",
      "\n",
      "NAME\n",
      "    pyvar - pyvar: A Comprehensive Financial Risk Analysis Toolkit\n",
      "\n",
      "DESCRIPTION\n",
      "    pyvar is a modular Python package designed for financial risk modeling,\n",
      "    focusing on Value-at-Risk (VaR) and Expected Shortfall (ES).\n",
      "    It provides analytical tools, interactive visualizations, and rigorous\n",
      "    backtesting utilities to support risk management and portfolio analysis.\n",
      "\n",
      "    Main Features\n",
      "    -------------\n",
      "    - VaR and ES estimation using historical, parametric, simulation, and EVT methods\n",
      "    - Volatility modeling via GARCH, EWMA, ARCH, and MA models\n",
      "    - Portfolio risk decomposition (marginal, incremental, component VaR/ES)\n",
      "    - Time-varying correlation models (EWMA, MA)\n",
      "    - Factor models including CAPM and Fama-French\n",
      "    - Monte Carlo and historical simulations for equities and derivatives\n",
      "    - Backtesting procedures (Kupiec, Christoffersen, Joint LR tests)\n",
      "    - Interactive and static plots for risk metrics and diagnostics\n",
      "\n",
      "    Authors\n",
      "    -------\n",
      "    - Alessandro Dodon\n",
      "    - Niccolò Lecce\n",
      "    - Marco Gasparetti\n",
      "\n",
      "    Version\n",
      "    -------\n",
      "    0.1\n",
      "\n",
      "PACKAGE CONTENTS\n",
      "    backtesting\n",
      "    basic_var\n",
      "    correlation\n",
      "    data_download\n",
      "    evt\n",
      "    factor_models\n",
      "    plots\n",
      "    portfolio\n",
      "    simulations\n",
      "    volatility\n",
      "\n",
      "VERSION\n",
      "    0.1\n",
      "\n",
      "FILE\n",
      "    /Users/aledo/Documents/GitHub/pyvar/package/pyvar/__init__.py\n",
      "\n",
      "\n"
     ]
    }
   ],
   "source": [
    "# Check out the PyVaR package\n",
    "help(pvp)"
   ]
  },
  {
   "cell_type": "code",
   "execution_count": 5,
   "metadata": {},
   "outputs": [
    {
     "name": "stdout",
     "output_type": "stream",
     "text": [
      "Help on function garch_var in module pyvar.volatility:\n",
      "\n",
      "garch_var(returns, confidence_level=0.99, p=1, q=1, model='GARCH', distribution='normal', wealth=None)\n",
      "    Main\n",
      "    ----\n",
      "    Estimate Value-at-Risk (VaR) using a flexible GARCH-family model.\n",
      "\n",
      "    This function fits a GARCH-type volatility model to a return series using MLE.\n",
      "    Users can choose the volatility model (e.g., GARCH, EGARCH, APARCH) and innovation\n",
      "    distribution (e.g., Normal, Student-t, GED, Skewed-t). Conditional volatility is\n",
      "    extracted to compute standardized residuals and empirical quantile-based VaR.\n",
      "\n",
      "    VaR is computed both in-sample and as a 1-day ahead forecast.\n",
      "\n",
      "    Parameters\n",
      "    ----------\n",
      "    returns : pd.Series\n",
      "        Daily return series in decimal format (e.g., 0.01 = 1%).\n",
      "    confidence_level : float, optional\n",
      "        Confidence level for VaR (e.g., 0.99). Default is 0.99.\n",
      "    p : int, optional\n",
      "        Lag order for the GARCH term. Default is 1.\n",
      "    q : int, optional\n",
      "        Lag order for the ARCH term. Default is 1.\n",
      "    model : {\"GARCH\", \"EGARCH\", \"GJR\", \"APARCH\"}, optional\n",
      "        Volatility model specification. Default is \"GARCH\".\n",
      "    distribution : {\"normal\", \"t\", \"ged\", \"skewt\"}, optional\n",
      "        Distribution for the innovations. Default is \"normal\".\n",
      "    wealth : float, optional\n",
      "        Portfolio value in monetary units. If provided, VaR is also returned in currency.\n",
      "\n",
      "    Returns\n",
      "    -------\n",
      "    result_data : pd.DataFrame\n",
      "        DataFrame with the following columns:\n",
      "        - 'Returns': original return series\n",
      "        - 'Volatility': conditional standard deviation (in decimals)\n",
      "        - 'Innovations': standardized residuals (ε / σ)\n",
      "        - 'VaR': semi-parametric Value-at-Risk (decimal loss)\n",
      "        - 'VaR Violation': boolean flag for VaR breaches\n",
      "        - 'VaR_monetary': optional, monetary VaR if wealth is provided\n",
      "    next_day_var : float\n",
      "        One-step-ahead VaR forecast (decimal loss or monetary loss if wealth is set).\n",
      "\n",
      "    Raises\n",
      "    ------\n",
      "    ValueError\n",
      "        If an unsupported model or distribution is specified.\n",
      "\n",
      "    Notes\n",
      "    -----\n",
      "    - Returns are scaled by 100 before fitting to improve numerical stability.\n",
      "\n"
     ]
    }
   ],
   "source": [
    "# Check out a single function\n",
    "help(pvp.garch_var)"
   ]
  }
 ],
 "metadata": {
  "kernelspec": {
   "display_name": "base",
   "language": "python",
   "name": "python3"
  },
  "language_info": {
   "codemirror_mode": {
    "name": "ipython",
    "version": 3
   },
   "file_extension": ".py",
   "mimetype": "text/x-python",
   "name": "python",
   "nbconvert_exporter": "python",
   "pygments_lexer": "ipython3",
   "version": "3.12.4"
  }
 },
 "nbformat": 4,
 "nbformat_minor": 2
}
