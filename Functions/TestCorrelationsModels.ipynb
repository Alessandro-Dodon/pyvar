{
 "cells": [
  {
   "cell_type": "code",
   "execution_count": 1,
   "metadata": {},
   "outputs": [],
   "source": [
    "import CorrelationsModels as CM"
   ]
  },
  {
   "cell_type": "code",
   "execution_count": 2,
   "metadata": {},
   "outputs": [
    {
     "name": "stdout",
     "output_type": "stream",
     "text": [
      "Input x_matrix:\n",
      "            Asset A  Asset B  Asset C\n",
      "2023-01-01     1000      500      200\n",
      "2023-01-02     1020      520      210\n",
      "2023-01-03      980      510      205\n",
      "2023-01-04      990      530      215\n",
      "2023-01-05     1010      525      220\n",
      "2023-01-06     1005      535      225\n",
      "2023-01-07      995      540      230\n",
      "2023-01-08     1002      538      235\n"
     ]
    }
   ],
   "source": [
    "import pandas as pd\n",
    "\n",
    "# Define dates\n",
    "dates = pd.date_range(start=\"2023-01-01\", periods=8, freq=\"D\")\n",
    "\n",
    "# Create a simple x_matrix (monetary positions)\n",
    "data = {\n",
    "    \"Asset A\": [1000, 1020, 980, 990, 1010, 1005, 995, 1002],\n",
    "    \"Asset B\": [500, 520, 510, 530, 525, 535, 540, 538],\n",
    "    \"Asset C\": [200, 210, 205, 215, 220, 225, 230, 235]\n",
    "}\n",
    "x_matrix = pd.DataFrame(data, index=dates)\n",
    "print(\"Input x_matrix:\")\n",
    "print(x_matrix)\n"
   ]
  },
  {
   "cell_type": "code",
   "execution_count": null,
   "metadata": {},
   "outputs": [
    {
     "name": "stdout",
     "output_type": "stream",
     "text": [
      "\n",
      "RiskMetrics VaR (last 3 rows):\n",
      "            Portfolio Return  Portfolio Volatility        VaR  VaR Violation\n",
      "2023-01-06          0.005852             36.025137  83.807000          False\n",
      "2023-01-07          0.000146             34.966730  81.344777          False\n",
      "2023-01-08          0.005727             34.205839  79.574681          False\n",
      "Next-day VaR (RiskMetrics): 79.57\n",
      "\n",
      "VEC VaR (last 3 rows):\n",
      "            Portfolio Return  Portfolio Volatility        VaR  VaR Violation\n",
      "2023-01-06          0.005852             36.013755  83.780522          False\n",
      "2023-01-07          0.000146             35.522723  82.638210          False\n",
      "2023-01-08          0.005727             35.192290  81.869508          False\n",
      "Next-day VaR (VEC): 81.87\n"
     ]
    }
   ],
   "source": [
    "# Run RiskMetrics VaR\n",
    "rm_results, rm_next = CM.var_riskmetrics(x_matrix, confidence_level=0.99)\n",
    "print(\"\\nRiskMetrics VaR (last 3 rows):\")\n",
    "print(rm_results.tail(3))\n",
    "print(\"Next-day VaR (RiskMetrics):\", round(rm_next, 2))\n",
    "\n",
    "# Run VEC VaR\n",
    "vec_results, vec_next = CM.var_vec(x_matrix, confidence_level=0.99)\n",
    "print(\"\\nVEC VaR (last 3 rows):\")\n",
    "print(vec_results.tail(3))\n",
    "print(\"Next-day VaR (VEC):\", round(vec_next, 2))\n"
   ]
  },
  {
   "cell_type": "code",
   "execution_count": 10,
   "metadata": {},
   "outputs": [
    {
     "name": "stdout",
     "output_type": "stream",
     "text": [
      "\n",
      "Moving Average VaR (last 3 rows):\n",
      "            Portfolio Return  Portfolio Volatility        VaR  VaR Violation\n",
      "2023-01-06          0.003387             13.027128  30.305631          False\n",
      "2023-01-07         -0.003162             10.128056  23.561381          False\n",
      "2023-01-08          0.003284              5.795786  13.483015          False\n",
      "Next-day VaR (Moving Average): 13.59\n"
     ]
    }
   ],
   "source": [
    "# Sample data (8 periods, 2 assets)\n",
    "dates = pd.date_range(start=\"2023-01-01\", periods=8, freq=\"D\")\n",
    "data = {\n",
    "    \"Asset A\": [1000, 1020, 980, 990, 1010, 1005, 995, 1002],\n",
    "    \"Asset B\": [500, 520, 510, 530, 525, 535, 540, 538]\n",
    "}\n",
    "x_matrix = pd.DataFrame(data, index=dates)\n",
    "\n",
    "# Run Rolling MA VaR with window size 3\n",
    "ma_results, ma_next = CM.var_movingaverage(x_matrix, confidence_level=0.99, window_size=3)\n",
    "print(\"\\nMoving Average VaR (last 3 rows):\")\n",
    "print(ma_results.tail(3))\n",
    "print(\"Next-day VaR (Moving Average):\", round(ma_next, 2))"
   ]
  }
 ],
 "metadata": {
  "kernelspec": {
   "display_name": "base",
   "language": "python",
   "name": "python3"
  },
  "language_info": {
   "codemirror_mode": {
    "name": "ipython",
    "version": 3
   },
   "file_extension": ".py",
   "mimetype": "text/x-python",
   "name": "python",
   "nbconvert_exporter": "python",
   "pygments_lexer": "ipython3",
   "version": "3.12.4"
  }
 },
 "nbformat": 4,
 "nbformat_minor": 2
}
